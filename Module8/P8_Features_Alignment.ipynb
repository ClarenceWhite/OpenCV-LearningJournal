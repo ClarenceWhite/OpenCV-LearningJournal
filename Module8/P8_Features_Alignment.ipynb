{
 "cells": [
  {
   "cell_type": "markdown",
   "metadata": {},
   "source": [
    "# Alignment"
   ]
  },
  {
   "cell_type": "code",
   "execution_count": 1,
   "metadata": {},
   "outputs": [],
   "source": [
    "import cv2 as cv\n",
    "import numpy as np\n",
    "import matplotlib.pyplot as plt"
   ]
  },
  {
   "cell_type": "markdown",
   "metadata": {},
   "source": [
    "## Read tempalate and scanned image"
   ]
  },
  {
   "cell_type": "code",
   "execution_count": null,
   "metadata": {},
   "outputs": [],
   "source": [
    "#Read reference image\n",
    "refFilename = \"tempalate.jpg\"\n",
    "print(\"reading reference image:\", refFilename)\n",
    "img1 = cv.imread(refFilename, cv.IMREAD_COLOR)\n",
    "img1 = cv.cvtColor(img1, cv.COLOR_BGR2RGB)\n",
    "\n",
    "#Read image to be aligned\n",
    "imFilename = \"Scanned\""
   ]
  }
 ],
 "metadata": {
  "interpreter": {
   "hash": "810c4c0d02f7f58179ef65c8d2ddd7100c1f704c857c51661c412a0363f45c87"
  },
  "kernelspec": {
   "display_name": "Python 3.10.4 ('BluePen')",
   "language": "python",
   "name": "python3"
  },
  "language_info": {
   "codemirror_mode": {
    "name": "ipython",
    "version": 3
   },
   "file_extension": ".py",
   "mimetype": "text/x-python",
   "name": "python",
   "nbconvert_exporter": "python",
   "pygments_lexer": "ipython3",
   "version": "3.10.4"
  },
  "orig_nbformat": 4
 },
 "nbformat": 4,
 "nbformat_minor": 2
}
